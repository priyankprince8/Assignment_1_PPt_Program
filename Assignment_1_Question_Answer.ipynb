{
  "nbformat": 4,
  "nbformat_minor": 0,
  "metadata": {
    "colab": {
      "provenance": []
    },
    "kernelspec": {
      "name": "python3",
      "display_name": "Python 3"
    },
    "language_info": {
      "name": "python"
    }
  },
  "cells": [
    {
      "cell_type": "code",
      "source": [
        "# Question 1\n",
        "def two_sum(nums, target):\n",
        "  num_map = {}\n",
        "  for i, num in enumerate(nums):\n",
        "    complement = target - num\n",
        "    if complement in num_map:\n",
        "       return [num_map[complement], i]\n",
        "    num_map[num] = i\n",
        "  return []  \n",
        "      "
      ],
      "metadata": {
        "id": "d9AgFMONvzgd"
      },
      "execution_count": 33,
      "outputs": []
    },
    {
      "cell_type": "code",
      "source": [
        "nums = [2,7,20,15]\n",
        "target = 9\n",
        "result = two_sum(nums, target)\n",
        "print(result)"
      ],
      "metadata": {
        "colab": {
          "base_uri": "https://localhost:8080/"
        },
        "id": "g8UB5SNGvK-8",
        "outputId": "10979ea4-8fef-44c4-e901-aba1a6a156c3"
      },
      "execution_count": 34,
      "outputs": [
        {
          "output_type": "stream",
          "name": "stdout",
          "text": [
            "[0, 1]\n"
          ]
        }
      ]
    },
    {
      "cell_type": "code",
      "source": [
        "#Question 2\n",
        "def remove_element(nums, val):\n",
        "  i = 0\n",
        "  for t in range(len(nums)):\n",
        "    if nums[t] != val:\n",
        "        nums[i] = nums[t]\n",
        "        i += 1\n",
        "  return i      "
      ],
      "metadata": {
        "id": "HOj2EJAizYeu"
      },
      "execution_count": 37,
      "outputs": []
    },
    {
      "cell_type": "code",
      "source": [
        "nums = [3,2,2]\n",
        "val = 3\n",
        "result = remove_element(nums, val)\n",
        "print(result)\n",
        "print(nums)"
      ],
      "metadata": {
        "colab": {
          "base_uri": "https://localhost:8080/"
        },
        "id": "XoF3mpx25FBA",
        "outputId": "f3e97256-ace1-4123-8671-04e425b431a8"
      },
      "execution_count": 41,
      "outputs": [
        {
          "output_type": "stream",
          "name": "stdout",
          "text": [
            "2\n",
            "[2, 2, 2]\n"
          ]
        }
      ]
    },
    {
      "cell_type": "code",
      "source": [
        "# Question 3\n",
        "def searchInsert(nums, target):\n",
        "    left = 0\n",
        "    right = len(nums) - 1\n",
        "    while left <= right:\n",
        "        mid = left + (right - left) // 2\n",
        "        if nums[mid] == target:\n",
        "            return mid\n",
        "        elif nums[mid] < target:\n",
        "            left = mid + 1\n",
        "        else:\n",
        "            right = mid - 1\n",
        "    return left\n"
      ],
      "metadata": {
        "id": "rwh7qqqw5e_5"
      },
      "execution_count": 42,
      "outputs": []
    },
    {
      "cell_type": "code",
      "source": [
        "nums = [1, 3, 5, 6]\n",
        "target = 5\n",
        "result = searchInsert(nums, target)\n",
        "print(result)  "
      ],
      "metadata": {
        "colab": {
          "base_uri": "https://localhost:8080/"
        },
        "id": "FCPInAf08Ttr",
        "outputId": "241a021f-2d21-428e-a944-e59552416687"
      },
      "execution_count": 43,
      "outputs": [
        {
          "output_type": "stream",
          "name": "stdout",
          "text": [
            "2\n"
          ]
        }
      ]
    },
    {
      "cell_type": "code",
      "source": [
        "# Question 4\n",
        "def plus_One(digits):\n",
        "    carry = 1\n",
        "    for i in range(len(digits) - 1, -1, -1):\n",
        "        digits[i] += carry\n",
        "        digits[i] %= 10\n",
        "        if digits[i] != 0:\n",
        "            carry = 0\n",
        "            break\n",
        "    if carry == 1:\n",
        "        digits.insert(0, 1)\n",
        "    return digits"
      ],
      "metadata": {
        "id": "pC784kug8mIC"
      },
      "execution_count": 44,
      "outputs": []
    },
    {
      "cell_type": "code",
      "source": [
        "digits = [1, 3, 4]\n",
        "result = plus_One(digits)\n",
        "print(result)  "
      ],
      "metadata": {
        "colab": {
          "base_uri": "https://localhost:8080/"
        },
        "id": "hnO1sBe09wAF",
        "outputId": "aa183b2a-b764-4f0d-8212-24946142cfac"
      },
      "execution_count": 45,
      "outputs": [
        {
          "output_type": "stream",
          "name": "stdout",
          "text": [
            "[1, 3, 5]\n"
          ]
        }
      ]
    },
    {
      "cell_type": "code",
      "source": [
        "#Question 5\n",
        "def merge(nums1, m, nums2, n):\n",
        "    t1 = m - 1\n",
        "    t2 = n - 1\n",
        "    t = m + n - 1\n",
        "    while t1 >= 0 and t2 >= 0:\n",
        "        if nums1[t1] > nums2[t2]:\n",
        "            nums1[t] = nums1[t1]\n",
        "            t1 -= 1\n",
        "        else:\n",
        "            nums1[t] = nums2[t2]\n",
        "            t2 -= 1\n",
        "        t -= 1\n",
        "    if t2 >= 0:\n",
        "        nums1[:t2 + 1] = nums2[:t2 + 1]\n",
        "    return nums1"
      ],
      "metadata": {
        "id": "_zLMw6CwP1U7"
      },
      "execution_count": 47,
      "outputs": []
    },
    {
      "cell_type": "code",
      "source": [
        "nums1 = [1, 2, 4, 0, 0, 0]\n",
        "m = 3\n",
        "nums2 = [2, 7, 8]\n",
        "n = 3\n",
        "result = merge(nums1, m, nums2, n)\n",
        "print(result)  \n"
      ],
      "metadata": {
        "colab": {
          "base_uri": "https://localhost:8080/"
        },
        "id": "mmpstEYARURz",
        "outputId": "cd3e2a38-9248-4bdb-bcff-71681ee3e7ae"
      },
      "execution_count": 48,
      "outputs": [
        {
          "output_type": "stream",
          "name": "stdout",
          "text": [
            "[1, 2, 2, 4, 7, 8]\n"
          ]
        }
      ]
    },
    {
      "cell_type": "code",
      "source": [
        "# Question 6\n",
        "def duplicate_contain(nums):\n",
        "    num_set = set()\n",
        "    for num in nums:\n",
        "        if num in num_set:\n",
        "            return True\n",
        "        num_set.add(num)\n",
        "    return False\n"
      ],
      "metadata": {
        "id": "mlAnK3rkRaHX"
      },
      "execution_count": 49,
      "outputs": []
    },
    {
      "cell_type": "code",
      "source": [
        "nums = [4, 5, 6, 4, 5]\n",
        "result = duplicate_contain(nums)\n",
        "print(result) "
      ],
      "metadata": {
        "colab": {
          "base_uri": "https://localhost:8080/"
        },
        "id": "_Mp2DEiRTWJp",
        "outputId": "c8e392b4-e052-487e-dab3-bf878144e766"
      },
      "execution_count": 50,
      "outputs": [
        {
          "output_type": "stream",
          "name": "stdout",
          "text": [
            "True\n"
          ]
        }
      ]
    },
    {
      "cell_type": "code",
      "source": [
        "#Question 7\n",
        "def move_all_zeroes(nums):\n",
        "    i = 0\n",
        "    for k in range(len(nums)):\n",
        "        if nums[k] != 0:\n",
        "            nums[i] = nums[k]\n",
        "            i += 1\n",
        "    nums[i:] = [0] * (len(nums) - i)\n",
        "\n"
      ],
      "metadata": {
        "id": "C5Zgmfu9Tma2"
      },
      "execution_count": 51,
      "outputs": []
    },
    {
      "cell_type": "code",
      "source": [
        "nums = [0, 4, 0, 8, 0, 12]\n",
        "move_all_zeroes(nums)\n",
        "print(nums) \n"
      ],
      "metadata": {
        "colab": {
          "base_uri": "https://localhost:8080/"
        },
        "id": "RXlN0xSpUoCm",
        "outputId": "3a1c6109-ff0e-4ce6-b354-475ca2ecee17"
      },
      "execution_count": 52,
      "outputs": [
        {
          "output_type": "stream",
          "name": "stdout",
          "text": [
            "[4, 8, 12, 0, 0, 0]\n"
          ]
        }
      ]
    },
    {
      "cell_type": "code",
      "source": [
        "# Question 8\n",
        "def find_error_nums(nums):\n",
        "    duplicate = 0\n",
        "    missing = 0\n",
        "\n",
        "    for num in nums:\n",
        "        if nums[abs(num) - 1] < 0:\n",
        "            duplicate = abs(num)\n",
        "        else:\n",
        "            nums[abs(num) - 1] *= -1\n",
        "\n",
        "    for i in range(len(nums)):\n",
        "        if nums[i] > 0:\n",
        "            missing = i + 1\n",
        "\n",
        "    return [duplicate, missing]\n",
        "\n"
      ],
      "metadata": {
        "id": "ugciddpvWdCx"
      },
      "execution_count": 53,
      "outputs": []
    },
    {
      "cell_type": "code",
      "source": [
        "nums = [1, 2, 2, 4]\n",
        "result = find_error_nums(nums)\n",
        "print(result)  "
      ],
      "metadata": {
        "colab": {
          "base_uri": "https://localhost:8080/"
        },
        "id": "CiGkNSojXPGx",
        "outputId": "a60e00c2-2322-4329-8376-bd1f34c91206"
      },
      "execution_count": 54,
      "outputs": [
        {
          "output_type": "stream",
          "name": "stdout",
          "text": [
            "[2, 3]\n"
          ]
        }
      ]
    },
    {
      "cell_type": "code",
      "source": [],
      "metadata": {
        "id": "I8bmN6PmYBN2"
      },
      "execution_count": null,
      "outputs": []
    }
  ]
}